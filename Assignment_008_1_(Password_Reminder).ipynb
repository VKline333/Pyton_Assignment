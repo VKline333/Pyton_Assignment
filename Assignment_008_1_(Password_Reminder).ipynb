{
  "nbformat": 4,
  "nbformat_minor": 0,
  "metadata": {
    "colab": {
      "name": "Assignment-008/1 (Password Reminder).ipynb",
      "provenance": [],
      "authorship_tag": "ABX9TyOb0wwj85d7a4Xfqs+sYRSr",
      "include_colab_link": true
    },
    "kernelspec": {
      "name": "python3",
      "display_name": "Python 3"
    },
    "language_info": {
      "name": "python"
    }
  },
  "cells": [
    {
      "cell_type": "markdown",
      "metadata": {
        "id": "view-in-github",
        "colab_type": "text"
      },
      "source": [
        "<a href=\"https://colab.research.google.com/github/VKline333/Pyton_Assignment/blob/main/Assignment_008_1_(Password_Reminder).ipynb\" target=\"_parent\"><img src=\"https://colab.research.google.com/assets/colab-badge.svg\" alt=\"Open In Colab\"/></a>"
      ]
    },
    {
      "cell_type": "code",
      "metadata": {
        "id": "AnlQB25zZ5ZQ"
      },
      "source": [
        "name = \"Joseph\"\n",
        "reminder = input(\"Enter your name : \")\n",
        "if reminder == name :\n",
        "  print(\"Hello, {}! The password is : W@12\".format(reminder))\n",
        "else :\n",
        "  print(\"Hello, {}! See you later.\".format(reminder))"
      ],
      "execution_count": null,
      "outputs": []
    }
  ]
}