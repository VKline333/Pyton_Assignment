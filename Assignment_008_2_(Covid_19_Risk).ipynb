{
  "nbformat": 4,
  "nbformat_minor": 0,
  "metadata": {
    "colab": {
      "name": "Assignment-008/2 (Covid-19 Risk).ipynb",
      "provenance": [],
      "authorship_tag": "ABX9TyPBL6kTP785+Ug85Wf3kgbF",
      "include_colab_link": true
    },
    "kernelspec": {
      "name": "python3",
      "display_name": "Python 3"
    },
    "language_info": {
      "name": "python"
    }
  },
  "cells": [
    {
      "cell_type": "markdown",
      "metadata": {
        "id": "view-in-github",
        "colab_type": "text"
      },
      "source": [
        "<a href=\"https://colab.research.google.com/github/VKline333/Pyton_Assignment/blob/main/Assignment_008_2_(Covid_19_Risk).ipynb\" target=\"_parent\"><img src=\"https://colab.research.google.com/assets/colab-badge.svg\" alt=\"Open In Colab\"/></a>"
      ]
    },
    {
      "cell_type": "code",
      "metadata": {
        "colab": {
          "base_uri": "https://localhost:8080/"
        },
        "id": "ljsDVkE_-u4-",
        "outputId": "bf235d5d-e8f7-43bd-b466-7723048edd8b"
      },
      "source": [
        "# Task : Estimating the risk of death from coronavirus. Write a program that;\n",
        "# Takes \"Yes\" or \"No\" from the user as an answer to the following questions :\n",
        "# Are you a cigarette addict older than 75 years old? Variable → age\n",
        "# Do you have a severe chronic disease? Variable → chronic\n",
        "# Is your immune system too weak? Variable → immune\n",
        "# Set a logical algorithm using boolean logic operators (and/or) and use if-statements with the given variables in order to print out us a message : \"You are in risky group\"(if True ) or \"You are not in risky group\" (if False).\n",
        "\n",
        "\n",
        "age = input(\"Are you a cigarette addict older than 75 years old? : \")  # can be assigned only Yes/No\n",
        "chronic = input(\"Do you have a severe chronic disease? : \")  # can be assigned only Yes/No\n",
        "immune = input(\"Is your immune system too weak? : \")  # can be assigned only Yes/No\n",
        "if age == \"Yes\" and chronic == \"Yes\" and immune == \"Yes\" :\n",
        "  print(\"You are in risky group\")\n",
        "else :\n",
        "  print(\"You are not in risky group\")"
      ],
      "execution_count": null,
      "outputs": [
        {
          "output_type": "stream",
          "text": [
            "Are you a cigarette addict older than 75 years old? : Yes\n",
            "Do you have a severe chronic disease? : Yes\n",
            "Is your immune system too weak? : Yes\n",
            "You are in risky group\n"
          ],
          "name": "stdout"
        }
      ]
    }
  ]
}