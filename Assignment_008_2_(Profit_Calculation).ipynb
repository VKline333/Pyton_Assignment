{
  "nbformat": 4,
  "nbformat_minor": 0,
  "metadata": {
    "colab": {
      "name": "Assignment-008/2 (Profit Calculation).ipynb",
      "provenance": [],
      "authorship_tag": "ABX9TyNXOuOOBJho1F+YdXEDs5eV",
      "include_colab_link": true
    },
    "kernelspec": {
      "name": "python3",
      "display_name": "Python 3"
    },
    "language_info": {
      "name": "python"
    }
  },
  "cells": [
    {
      "cell_type": "markdown",
      "metadata": {
        "id": "view-in-github",
        "colab_type": "text"
      },
      "source": [
        "<a href=\"https://colab.research.google.com/github/VKline333/Pyton_Assignment/blob/main/Assignment_008_2_(Profit_Calculation).ipynb\" target=\"_parent\"><img src=\"https://colab.research.google.com/assets/colab-badge.svg\" alt=\"Open In Colab\"/></a>"
      ]
    },
    {
      "cell_type": "code",
      "metadata": {
        "colab": {
          "base_uri": "https://localhost:8080/"
        },
        "id": "CyYmxI3bBeWx",
        "outputId": "2cdd13b9-2f8d-47f3-cca8-0dbb9882f7b7"
      },
      "source": [
        "\"\"\"Assignment-008/2 (Profit Calculation-Task 1)\"\"\"\n",
        "\n",
        "# After finishing the tasks correctly, then submit your answers (codes) as plain text which shows you did correctly.\n",
        "# Leave two empty lines between your answers (regarding two tasks).\n",
        "# Task - 1 :\n",
        "# You work for a manufacturer as a programmer and have been asked to calculate the total profit made on the sales of a product.\n",
        "# You are given a dictionary (sales) containing the cost price per unit (in dollars),\n",
        "# sell price per unit (in dollars),and the beginning inventory. \n",
        "# Write a program to return the total profit made, rounded to the nearest dollar. Assume all of the inventory has been sold.\n",
        "# The name and the keys of the dictionary are constant, so use them as they are.\n",
        "\n",
        "sales = {\n",
        "  \"cost_price\": 15.83,\n",
        "  \"sell_price\": 45.00,\n",
        "  \"inventory\": 100\n",
        "}  \n",
        "round((sales['sell_price']-sales['cost_price'])*sales['inventory'], ndigits=0)\n"
      ],
      "execution_count": 1,
      "outputs": [
        {
          "output_type": "execute_result",
          "data": {
            "text/plain": [
              "2917.0"
            ]
          },
          "metadata": {
            "tags": []
          },
          "execution_count": 1
        }
      ]
    },
    {
      "cell_type": "code",
      "metadata": {
        "colab": {
          "base_uri": "https://localhost:8080/"
        },
        "id": "fLCSMJayCoj_",
        "outputId": "be447597-6c1e-437b-ddb0-4bfb763e9143"
      },
      "source": [
        "\"\"\"Assignment/2 (Profit Calculation-Task 2)\"\"\"\n",
        "\n",
        "# Your boss wants you to prepare the payrolls of the workers in your department.\n",
        "# You have to convert the amount of dollars into payroll format.\n",
        "# In order to help move things along, you have volunteered to write a code that\n",
        "# will take a float and return the money in the following format\n",
        "\n",
        "amount = float(input(\"enter the amount to be paid : \"))\n",
        "print(\"${:.2f}\".format(amount))"
      ],
      "execution_count": 3,
      "outputs": [
        {
          "output_type": "stream",
          "text": [
            "enter the amount to be paid : 5234\n",
            "$5234.00\n"
          ],
          "name": "stdout"
        }
      ]
    }
  ]
}