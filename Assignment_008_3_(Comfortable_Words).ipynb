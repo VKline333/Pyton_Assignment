{
  "nbformat": 4,
  "nbformat_minor": 0,
  "metadata": {
    "colab": {
      "name": "Assignment-008/3 (Comfortable Words).ipynb",
      "provenance": [],
      "authorship_tag": "ABX9TyMSK9sBlU1UkUX3G6XCIz4b",
      "include_colab_link": true
    },
    "kernelspec": {
      "name": "python3",
      "display_name": "Python 3"
    },
    "language_info": {
      "name": "python"
    }
  },
  "cells": [
    {
      "cell_type": "markdown",
      "metadata": {
        "id": "view-in-github",
        "colab_type": "text"
      },
      "source": [
        "<a href=\"https://colab.research.google.com/github/VKline333/Pyton_Assignment/blob/main/Assignment_008_3_(Comfortable_Words).ipynb\" target=\"_parent\"><img src=\"https://colab.research.google.com/assets/colab-badge.svg\" alt=\"Open In Colab\"/></a>"
      ]
    },
    {
      "cell_type": "code",
      "metadata": {
        "colab": {
          "base_uri": "https://localhost:8080/"
        },
        "id": "9mnG18MyFNHa",
        "outputId": "38a92f09-e438-4c81-affd-0dedee92cd7e"
      },
      "source": [
        "#Task : Find out if the given word is \"comfortable words\" in relation to the ten-finger keyboard use.\n",
        "\n",
        "#A comfortable word is a word which you can type always alternating the hand you type with (assuming you type using a Q-keyboard and use of the ten-fingers standard).\n",
        "#The word will always be a string consisting of only letters from a to z.\n",
        "#Write a program which returns True if it's a comfortable word or False otherwise.\n",
        "\n",
        "\n",
        "left_hand = set('qwertasdfgyxcvb')\n",
        "right_hand = set('zuiophjklnm')\n",
        "word = set(input(\" Please write your word: \"))\n",
        "left_check = word.intersection(left_hand)\n",
        "right_check = word.intersection(right_hand)\n",
        "if left_check and right_check:\n",
        "       print(\"Your word is comfortable\")\n",
        "else:\n",
        "       print(\"Your word is not comfortable\")"
      ],
      "execution_count": 1,
      "outputs": [
        {
          "output_type": "stream",
          "text": [
            " Please write your word: arguman\n",
            "Your word is comfortable\n"
          ],
          "name": "stdout"
        }
      ]
    }
  ]
}