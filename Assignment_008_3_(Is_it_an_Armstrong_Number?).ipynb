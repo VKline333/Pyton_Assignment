{
  "nbformat": 4,
  "nbformat_minor": 0,
  "metadata": {
    "colab": {
      "name": "Assignment-008/3 (Is it an Armstrong Number?).ipynb",
      "provenance": [],
      "authorship_tag": "ABX9TyNiDYm4ji5r5Jlbk8ezj4d/",
      "include_colab_link": true
    },
    "kernelspec": {
      "name": "python3",
      "display_name": "Python 3"
    },
    "language_info": {
      "name": "python"
    }
  },
  "cells": [
    {
      "cell_type": "markdown",
      "metadata": {
        "id": "view-in-github",
        "colab_type": "text"
      },
      "source": [
        "<a href=\"https://colab.research.google.com/github/VKline333/Pyton_Assignment/blob/main/Assignment_008_3_(Is_it_an_Armstrong_Number%3F).ipynb\" target=\"_parent\"><img src=\"https://colab.research.google.com/assets/colab-badge.svg\" alt=\"Open In Colab\"/></a>"
      ]
    },
    {
      "cell_type": "code",
      "metadata": {
        "id": "UyQ2KtjkI2RN"
      },
      "source": [
        "'''Find out if a given number is an \"Armstrong Number\".\n",
        " \n",
        "An n-digit number that is the sum of the nth powers of its digits is called an n-Armstrong number. Examples :\n",
        "371 = 3^3 + 7^3 + 1^3;\n",
        "9474 = 9^4 + 4^4 + 7^4 + 4^4;\n",
        "93084 = 9^5 + 3^5 + 0^5 + 8^5 + 4^5.\n",
        " \n",
        "Write a Python program that;\n",
        "takes a positive integer number from the user,\n",
        "checks the entered number if it is Armstrong,\n",
        "consider the negative, float and any entries other than numeric values then display a warning message to the user.'''\n",
        " \n",
        "number = int(input(\"give a positive number : \")"
      ],
      "execution_count": null,
      "outputs": []
    },
    {
      "cell_type": "code",
      "metadata": {
        "id": "ZxBl-ZCv9Uyo"
      },
      "source": [
        " while True :\n",
        "    number = input(\"enter a positive number.\")\n",
        "    digits = len(number)\n",
        "    summ = 0\n",
        "    if not number.isdigit() :\n",
        "        print(number, \"is invalid entry. enter numberic value!\")\n",
        "    elif int(number) >= 0 :\n",
        "        for i in range(digits) :\n",
        "            summ = summ + int(number[i]) ** digits\n",
        "        if summ == int(number) :\n",
        "            print(number, \"is an Armstrong Number.\")\n",
        "            break\n",
        "        else :\n",
        "            print(number, \"is not an Armstrong Number.\")\n",
        "            break"
      ],
      "execution_count": null,
      "outputs": []
    }
  ]
}