{
  "nbformat": 4,
  "nbformat_minor": 0,
  "metadata": {
    "colab": {
      "name": "Assignment-008/5 (Fibonacci Numbers).ipynb",
      "provenance": [],
      "authorship_tag": "ABX9TyO2JsfwIVJmcp3QNBPxFnJT",
      "include_colab_link": true
    },
    "kernelspec": {
      "name": "python3",
      "display_name": "Python 3"
    },
    "language_info": {
      "name": "python"
    }
  },
  "cells": [
    {
      "cell_type": "markdown",
      "metadata": {
        "id": "view-in-github",
        "colab_type": "text"
      },
      "source": [
        "<a href=\"https://colab.research.google.com/github/VKline333/Pyton_Assignment/blob/main/Assignment_008_5_(Fibonacci_Numbers).ipynb\" target=\"_parent\"><img src=\"https://colab.research.google.com/assets/colab-badge.svg\" alt=\"Open In Colab\"/></a>"
      ]
    },
    {
      "cell_type": "code",
      "metadata": {
        "colab": {
          "base_uri": "https://localhost:8080/"
        },
        "id": "To5PKOAUrwHm",
        "outputId": "5d2bb737-f7b9-48bd-ae9e-87e28f65bef1"
      },
      "source": [
        "\"\"\"Task : Create a list consisting of Fibonacci numbers from 1 to 55 using control flow statements.\n",
        "The desired output is like :\n",
        "fibonacci →  [1, 1, 2, 3, 5, 8, 13, 21, 34, 55]\"\"\"\n",
        "a, b = 1, 1\n",
        "list_fib = []\n",
        "while a <= 55:\n",
        "    list_fib.append(a)\n",
        "    a, b = b, a + b\n",
        "print(list_fib)"
      ],
      "execution_count": 1,
      "outputs": [
        {
          "output_type": "stream",
          "text": [
            "[1, 1, 2, 3, 5, 8, 13, 21, 34, 55]\n"
          ],
          "name": "stdout"
        }
      ]
    }
  ]
}