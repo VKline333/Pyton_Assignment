{
  "nbformat": 4,
  "nbformat_minor": 0,
  "metadata": {
    "colab": {
      "name": "Assignment-008/8 (Leap Years).ipynb",
      "provenance": [],
      "authorship_tag": "ABX9TyNunkH4HW44OVRaBfwW8uBX",
      "include_colab_link": true
    },
    "kernelspec": {
      "name": "python3",
      "display_name": "Python 3"
    },
    "language_info": {
      "name": "python"
    }
  },
  "cells": [
    {
      "cell_type": "markdown",
      "metadata": {
        "id": "view-in-github",
        "colab_type": "text"
      },
      "source": [
        "<a href=\"https://colab.research.google.com/github/VKline333/Pyton_Assignment/blob/main/Assignment_008_8_(Leap_Years).ipynb\" target=\"_parent\"><img src=\"https://colab.research.google.com/assets/colab-badge.svg\" alt=\"Open In Colab\"/></a>"
      ]
    },
    {
      "cell_type": "code",
      "metadata": {
        "id": "4ZoTagF2sRgb"
      },
      "source": [
        "\"\"\"Find out if a given year is a \"leap\" year.\n",
        "\n",
        "In the Gregorian calendar, three criteria must be taken into account to identify leap years:\n",
        "The year must be evenly divisible by 4;\n",
        "If the year can also be evenly divided by 100, it is not a leap year; unless...\n",
        "The year is also evenly divisible by 400. Then it is a leap year.\n",
        "According to these rules, the years 2000 and 2400 are leap years, while 1800, 1900, 2100, 2200, 2300, and 2500 are not the leap years.\n",
        "\n",
        "Write a Python program that prints such as \"2020 is a leap year\" if the given year by the user is a leap year, prints such as \"2019 is not a leap year\" otherwise.\"\"\""
      ],
      "execution_count": null,
      "outputs": []
    },
    {
      "cell_type": "code",
      "metadata": {
        "colab": {
          "base_uri": "https://localhost:8080/"
        },
        "id": "bQNGrlTVsguk",
        "outputId": "2b4fd826-b204-49e5-a02a-9c0db57510de"
      },
      "source": [
        "year = int(input(\"Please enter a year: \"))\n",
        "if not year % 400 or (not year % 4 and year % 100):\n",
        "    print(f\"{year} is a leap year\")\n",
        "else:\n",
        "    print(f\"{year} is not a leap year\")"
      ],
      "execution_count": 10,
      "outputs": [
        {
          "output_type": "stream",
          "text": [
            "Please enter a year: 1996\n",
            "1996 is a leap year\n"
          ],
          "name": "stdout"
        }
      ]
    },
    {
      "cell_type": "code",
      "metadata": {
        "colab": {
          "base_uri": "https://localhost:8080/"
        },
        "id": "V328kNoxsgy0",
        "outputId": "2af722f8-468e-439c-a1fe-8e547cd1809d"
      },
      "source": [
        "year = int(input(\"Please enter a year: \"))\n",
        "if year % 400 == 0 or ( year % 4 == 0 and year % 100 != 0):\n",
        "    print(f\"{year} is a leap year\")\n",
        "else:\n",
        "    print(f\"{year} is not a leap year\")"
      ],
      "execution_count": 8,
      "outputs": [
        {
          "output_type": "stream",
          "text": [
            "Please enter a year: 1800\n",
            "1800 is not a leap year\n"
          ],
          "name": "stdout"
        }
      ]
    }
  ]
}