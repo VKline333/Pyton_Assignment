{
  "nbformat": 4,
  "nbformat_minor": 0,
  "metadata": {
    "colab": {
      "name": "Assignment-008/9 (Letters Count).ipynb",
      "provenance": [],
      "authorship_tag": "ABX9TyMqUNCm3auLlFVuH0mxGe97",
      "include_colab_link": true
    },
    "kernelspec": {
      "name": "python3",
      "display_name": "Python 3"
    },
    "language_info": {
      "name": "python"
    }
  },
  "cells": [
    {
      "cell_type": "markdown",
      "metadata": {
        "id": "view-in-github",
        "colab_type": "text"
      },
      "source": [
        "<a href=\"https://colab.research.google.com/github/VKline333/Pyton_Assignment/blob/main/Assignment_008_9_(Letters_Count).ipynb\" target=\"_parent\"><img src=\"https://colab.research.google.com/assets/colab-badge.svg\" alt=\"Open In Colab\"/></a>"
      ]
    },
    {
      "cell_type": "code",
      "metadata": {
        "id": "1rJKk4ZsFH0s"
      },
      "source": [
        "\"\"\"Count the number of each letter in a sentence.\n",
        "The department you work for undertook a project construction that makes word / text analysis. \n",
        "You are asked to calculate the number of letters or any chars in the sentences entered under this project.\n",
        "Write a Python program that;\n",
        "- takes a sentence from the user,\n",
        "- counts the number of each letter of the sentence,\n",
        "- collects the letters/chars as a key and the counted numbers as a value in a dictionary.\"\"\"\n"
      ],
      "execution_count": null,
      "outputs": []
    },
    {
      "cell_type": "code",
      "metadata": {
        "colab": {
          "base_uri": "https://localhost:8080/"
        },
        "id": "AgzRMW-nHqk9",
        "outputId": "a540b402-d67f-4dbd-d066-22971dd8ce3a"
      },
      "source": [
        "sentence = input(\"Please enter the sentence: \")\n",
        "dict_letter = dict()\n",
        "for i in sentence:\n",
        "    if i in dict_letter:\n",
        "        dict_letter[i]+=1\n",
        "    else:\n",
        "        dict_letter[i] = 1\n",
        "print(dict_letter)"
      ],
      "execution_count": 1,
      "outputs": [
        {
          "output_type": "stream",
          "text": [
            "Please enter the sentence: bir cümle yazın lütfen\n",
            "{'b': 1, 'i': 1, 'r': 1, ' ': 3, 'c': 1, 'ü': 2, 'm': 1, 'l': 2, 'e': 2, 'y': 1, 'a': 1, 'z': 1, 'ı': 1, 'n': 2, 't': 1, 'f': 1}\n"
          ],
          "name": "stdout"
        }
      ]
    },
    {
      "cell_type": "code",
      "metadata": {
        "id": "1Mn6INbxHL9B"
      },
      "source": [
        ""
      ],
      "execution_count": null,
      "outputs": []
    }
  ]
}