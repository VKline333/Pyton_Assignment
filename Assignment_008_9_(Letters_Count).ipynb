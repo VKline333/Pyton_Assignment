{
  "nbformat": 4,
  "nbformat_minor": 0,
  "metadata": {
    "colab": {
      "name": "Assignment-008/9 (Letters Count).ipynb",
      "provenance": [],
      "collapsed_sections": [],
      "authorship_tag": "ABX9TyNbfGz3HP1GyzSA165OpZkI",
      "include_colab_link": true
    },
    "kernelspec": {
      "name": "python3",
      "display_name": "Python 3"
    },
    "language_info": {
      "name": "python"
    }
  },
  "cells": [
    {
      "cell_type": "markdown",
      "metadata": {
        "id": "view-in-github",
        "colab_type": "text"
      },
      "source": [
        "<a href=\"https://colab.research.google.com/github/VKline333/Pyton_Assignment/blob/main/Assignment_008_9_(Letters_Count).ipynb\" target=\"_parent\"><img src=\"https://colab.research.google.com/assets/colab-badge.svg\" alt=\"Open In Colab\"/></a>"
      ]
    },
    {
      "cell_type": "code",
      "metadata": {
        "id": "1rJKk4ZsFH0s"
      },
      "source": [
        "\"\"\"Count the number of each letter in a sentence.\n",
        "The department you work for undertook a project construction that makes word / text analysis. \n",
        "You are asked to calculate the number of letters or any chars in the sentences entered under this project.\n",
        "Write a Python program that;\n",
        "- takes a sentence from the user,\n",
        "- counts the number of each letter of the sentence,\n",
        "- collects the letters/chars as a key and the counted numbers as a value in a dictionary.\"\"\"\n"
      ],
      "execution_count": null,
      "outputs": []
    },
    {
      "cell_type": "code",
      "metadata": {
        "id": "foQkuN2xpkRI"
      },
      "source": [
        "\"\"\"First Solution\"\"\""
      ],
      "execution_count": null,
      "outputs": []
    },
    {
      "cell_type": "code",
      "metadata": {
        "colab": {
          "base_uri": "https://localhost:8080/"
        },
        "id": "AgzRMW-nHqk9",
        "outputId": "01742e74-97ad-4439-e3fd-dd50b5be0277"
      },
      "source": [
        "sentence = input(\"Please enter the sentence: \")\n",
        "letter = {}\n",
        "for i in sentence:\n",
        "    if i in letter.keys():\n",
        "        letter[i]+=1\n",
        "    else:\n",
        "        letter[i] = 1\n",
        "print(letter)"
      ],
      "execution_count": null,
      "outputs": [
        {
          "output_type": "stream",
          "text": [
            "Please enter the sentence: bir cümle yazın lütfen\n",
            "{'b': 1, 'i': 1, 'r': 1, ' ': 3, 'c': 1, 'ü': 2, 'm': 1, 'l': 2, 'e': 2, 'y': 1, 'a': 1, 'z': 1, 'ı': 1, 'n': 2, 't': 1, 'f': 1}\n"
          ],
          "name": "stdout"
        }
      ]
    },
    {
      "cell_type": "code",
      "metadata": {
        "id": "1Mn6INbxHL9B"
      },
      "source": [
        "\"\"\"Second Solution\"\"\""
      ],
      "execution_count": null,
      "outputs": []
    },
    {
      "cell_type": "code",
      "metadata": {
        "colab": {
          "base_uri": "https://localhost:8080/"
        },
        "id": "ceL20pleo7LH",
        "outputId": "47cea31b-aa5a-4f98-865d-f2089eabd5da"
      },
      "source": [
        "sentence = input(\"Please enter the sentence: \")\n",
        "letter = dict(zip(sentence,list(map(sentence.count, sentence))))\n",
        "print(letter)"
      ],
      "execution_count": 2,
      "outputs": [
        {
          "output_type": "stream",
          "text": [
            "Please enter the sentence: hello world!\n",
            "{'h': 1, 'e': 1, 'l': 3, 'o': 2, ' ': 1, 'w': 1, 'r': 1, 'd': 1, '!': 1}\n"
          ],
          "name": "stdout"
        }
      ]
    }
  ]
}