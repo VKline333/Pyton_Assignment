{
  "nbformat": 4,
  "nbformat_minor": 0,
  "metadata": {
    "colab": {
      "name": "The most frequent number.ipynb",
      "provenance": [],
      "authorship_tag": "ABX9TyMZfqKlVObrX65wmMCXy+Ae",
      "include_colab_link": true
    },
    "kernelspec": {
      "name": "python3",
      "display_name": "Python 3"
    },
    "language_info": {
      "name": "python"
    }
  },
  "cells": [
    {
      "cell_type": "markdown",
      "metadata": {
        "id": "view-in-github",
        "colab_type": "text"
      },
      "source": [
        "<a href=\"https://colab.research.google.com/github/VKline333/Pyton_Assignment/blob/main/The_most_frequent_number.ipynb\" target=\"_parent\"><img src=\"https://colab.research.google.com/assets/colab-badge.svg\" alt=\"Open In Colab\"/></a>"
      ]
    },
    {
      "cell_type": "code",
      "metadata": {
        "colab": {
          "base_uri": "https://localhost:8080/"
        },
        "id": "CkGnI05HAb1E",
        "outputId": "2dcad1f2-669f-4ddd-d4cb-7dffab662b09"
      },
      "source": [
        "numbers = [5, 1, 2, 4, 5, 1, 7, 3, 4, 5, 7, 9, 0, 3, 4, 5, 1]\n",
        "frequent = max(numbers, key = numbers.count)  # max fonk. default en buyuk sayıyı getirir.\n",
        "                                              # spesifik olarak key parametresi hangi en büyük şeyi getireceğini belirler.\n",
        "repeated = numbers.count(frequent)\n",
        "print(\"the most frequent number is {} and it was {} times repeated\".format(frequent, repeated))"
      ],
      "execution_count": 1,
      "outputs": [
        {
          "output_type": "stream",
          "text": [
            "the most frequent number is 5 and it was 4 times repeated\n"
          ],
          "name": "stdout"
        }
      ]
    }
  ]
}