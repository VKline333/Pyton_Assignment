{
  "nbformat": 4,
  "nbformat_minor": 0,
  "metadata": {
    "colab": {
      "name": "extract letters.ipynb",
      "provenance": [],
      "authorship_tag": "ABX9TyMg3ahJI0hUG2E23zEP2iQ9",
      "include_colab_link": true
    },
    "kernelspec": {
      "name": "python3",
      "display_name": "Python 3"
    },
    "language_info": {
      "name": "python"
    }
  },
  "cells": [
    {
      "cell_type": "markdown",
      "metadata": {
        "id": "view-in-github",
        "colab_type": "text"
      },
      "source": [
        "<a href=\"https://colab.research.google.com/github/VKline333/Pyton_Assignment/blob/main/extract_letters.ipynb\" target=\"_parent\"><img src=\"https://colab.research.google.com/assets/colab-badge.svg\" alt=\"Open In Colab\"/></a>"
      ]
    },
    {
      "cell_type": "code",
      "metadata": {
        "colab": {
          "base_uri": "https://localhost:8080/"
        },
        "id": "JZk3q0dMFFFJ",
        "outputId": "2c0ed571-eb36-43bf-cf14-15019292e39e"
      },
      "source": [
        "def filterconsonant(x):\n",
        "  consonant = []\n",
        "  sesli = []\n",
        "  vowels = [\"a\",\"e\",\"i\",\"o\",\"u\"]\n",
        "  for i in x :\n",
        "    if i == \" \" :\n",
        "      continue\n",
        "    if i not in vowels :\n",
        "      consonant.append(i)\n",
        "    else:\n",
        "      sesli.append(i)\n",
        "  return consonant\n",
        "     \n",
        "filterconsonant(\"the clarusway\")"
      ],
      "execution_count": 1,
      "outputs": [
        {
          "output_type": "execute_result",
          "data": {
            "text/plain": [
              "['t', 'h', 'c', 'l', 'r', 's', 'w', 'y']"
            ]
          },
          "metadata": {
            "tags": []
          },
          "execution_count": 1
        }
      ]
    },
    {
      "cell_type": "code",
      "metadata": {
        "id": "Sg9GEPFdNfEP"
      },
      "source": [
        "def filterConsonant(letter) :\n",
        "    vowels = [\"a\", \"e\", \"i\", \"o\", \"u\"]\n",
        "    \n",
        "    if letter not in vowels :\n",
        "      return True\n",
        "    else :\n",
        "      return False\n"
      ],
      "execution_count": 11,
      "outputs": []
    },
    {
      "cell_type": "code",
      "metadata": {
        "colab": {
          "base_uri": "https://localhost:8080/"
        },
        "id": "EaEQESgQNe7U",
        "outputId": "dc65986e-843c-4503-b9f6-41349d601302"
      },
      "source": [
        "filtered_consonant = filter(filterConsonant, \"the clarusway\")\n",
        "print(*filtered_consonant)"
      ],
      "execution_count": 14,
      "outputs": [
        {
          "output_type": "stream",
          "text": [
            "t h   c l r s w y\n"
          ],
          "name": "stdout"
        }
      ]
    },
    {
      "cell_type": "code",
      "metadata": {
        "id": "0CZ5VNs7Ne4p"
      },
      "source": [
        "def filterVowels(letter) :\n",
        "    vowels = [\"a\", \"e\", \"i\", \"o\", \"u\"]\n",
        "    \n",
        "    if letter.lower() in vowels : # lower büyük harfleri küçültmek için\n",
        "        return True\n",
        "    else :\n",
        "        return False"
      ],
      "execution_count": 9,
      "outputs": []
    },
    {
      "cell_type": "code",
      "metadata": {
        "colab": {
          "base_uri": "https://localhost:8080/"
        },
        "id": "a2OVFkXOPh-I",
        "outputId": "618e9faa-ee1d-41fa-b98a-f523c5883060"
      },
      "source": [
        "filtered_vowels = filter(filterVowels, \"the clarusway\")\n",
        "print(*filtered_vowels)"
      ],
      "execution_count": 10,
      "outputs": [
        {
          "output_type": "stream",
          "text": [
            "e a u a\n"
          ],
          "name": "stdout"
        }
      ]
    }
  ]
}